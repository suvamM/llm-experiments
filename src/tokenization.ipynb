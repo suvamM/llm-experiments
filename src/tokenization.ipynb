{
 "cells": [
  {
   "cell_type": "code",
   "execution_count": 1,
   "metadata": {},
   "outputs": [
    {
     "name": "stderr",
     "output_type": "stream",
     "text": [
      "c:\\Users\\sumukherjee\\AppData\\Local\\Programs\\Python\\Python311\\Lib\\site-packages\\torch\\_subclasses\\functional_tensor.py:275: UserWarning: Failed to initialize NumPy: No module named 'numpy' (Triggered internally at C:\\actions-runner\\_work\\pytorch\\pytorch\\pytorch\\torch\\csrc\\utils\\tensor_numpy.cpp:81.)\n",
      "  cpu = _conversion_method_template(device=torch.device(\"cpu\"))\n"
     ]
    }
   ],
   "source": [
    "import torch\n",
    "import tiktoken"
   ]
  },
  {
   "cell_type": "code",
   "execution_count": 1,
   "metadata": {},
   "outputs": [
    {
     "data": {
      "text/plain": [
       "('../data/the-verdict.txt', <http.client.HTTPMessage at 0x21eb62954d0>)"
      ]
     },
     "execution_count": 1,
     "metadata": {},
     "output_type": "execute_result"
    }
   ],
   "source": [
    "import urllib.request\n",
    "url = (\"https://raw.githubusercontent.com/rasbt/\"\n",
    "       \"LLMs-from-scratch/main/ch02/01_main-chapter-code/\"\n",
    "       \"the-verdict.txt\")\n",
    "file_path = \"../data/the-verdict.txt\"\n",
    "urllib.request.urlretrieve(url, file_path)"
   ]
  },
  {
   "cell_type": "code",
   "execution_count": 2,
   "metadata": {},
   "outputs": [
    {
     "name": "stdout",
     "output_type": "stream",
     "text": [
      "Total number of characters in the text: 20479\n",
      "I HAD always thought Jack Gisburn rather a cheap genius--though a good fellow enough--so it was no great surprise to me to hear that, in the height of his glory, he had dropped his painting, married a rich widow, and established himself in a villa on the Riviera. (Though I rather thought it would have been Rome or Florence.)\n",
      "\n",
      "\"The height of his glory\"--that was what the women called it. I can hear Mrs. Gideon Thwing--his last Chicago sitter--deploring his unaccountable abdication. \"Of course it's going to send the value of my picture 'way up; but I don't think of that, Mr. Rickham--the loss to Arrt is all I think of.\" The word, on Mrs. Thwing's lips, multiplied its _rs_ as though they were reflected in an endless vista of mirrors. And it was not only the Mrs. Thwings who mourned. Had not the exquisite Hermia Croft, at the last Grafton Gallery show, stopped me before Gisburn's \"Moon-dancers\" to say, with tears in her eyes: \"We shall not look upon its like again\"?\n",
      "\n",
      "Well!--even through th\n"
     ]
    }
   ],
   "source": [
    "# Load the data\n",
    "with open(file_path, \"r\", encoding=\"utf-8\") as f:\n",
    "    raw_text = f.read()\n",
    "\n",
    "print(\"Total number of characters in the text:\", len(raw_text))\n",
    "print(raw_text[:1000])"
   ]
  },
  {
   "cell_type": "code",
   "execution_count": 6,
   "metadata": {},
   "outputs": [
    {
     "name": "stdout",
     "output_type": "stream",
     "text": [
      "['Hello', '', 'world!', 'this', 'is', 'a', 'test', '']\n"
     ]
    }
   ],
   "source": [
    "# Tokenize the text using regex\n",
    "import re\n",
    "text = \"Hello, world! this is a test.\"\n",
    "\n",
    "result = re.split(r\"[,.]|\\s\", text)\n",
    "print(result)"
   ]
  },
  {
   "cell_type": "code",
   "execution_count": 2,
   "metadata": {},
   "outputs": [
    {
     "name": "stdout",
     "output_type": "stream",
     "text": [
      "[73, 71, 73, 31298, 31298, 18435, 11, 995, 0, 428, 318, 257, 1332, 13, 198, 220, 50256, 1212, 318, 257, 649, 1627, 13, 3914, 338, 766, 703, 428, 11241, 7509, 2499, 13]\n",
      "jhjhdhd Hello, world! this is a test.\n",
      " <|endoftext|>This is a new line. Let's see how this tokenizer works.\n"
     ]
    }
   ],
   "source": [
    "import tiktoken\n",
    "\n",
    "tokenizer = tiktoken.get_encoding(\"gpt2\")\n",
    "\n",
    "text = (\n",
    "    \"jhjhdhd Hello, world! this is a test.\\n <|endoftext|>\"\n",
    "    \"This is a new line. Let's see how this tokenizer works.\"\n",
    ")\n",
    "\n",
    "integers = tokenizer.encode(text, allowed_special={\"<|endoftext|>\"})\n",
    "print(integers)\n",
    "\n",
    "print(tokenizer.decode(integers))"
   ]
  },
  {
   "cell_type": "code",
   "execution_count": 3,
   "metadata": {},
   "outputs": [
    {
     "name": "stdout",
     "output_type": "stream",
     "text": [
      "[tensor([[  40,  367, 2885, 1464]]), tensor([[ 367, 2885, 1464, 1807]])]\n"
     ]
    }
   ],
   "source": [
    "import torch\n",
    "from torch.utils.data import Dataset, DataLoader\n",
    "\n",
    "class GPTDatasetV1(Dataset):\n",
    "    def __init__(self, text, tokenizer, max_length, stride):\n",
    "        self.input_ids = []\n",
    "        self.target_ids = []\n",
    "\n",
    "        token_ids = tokenizer.encode(text)\n",
    "\n",
    "        for i in range(0, len(token_ids) - max_length, stride):\n",
    "            input_chunk = token_ids[i : i + max_length]\n",
    "            target_chunk = token_ids[i + 1 : i + max_length + 1]\n",
    "\n",
    "            self.input_ids.append(torch.tensor(input_chunk))\n",
    "            self.target_ids.append(torch.tensor(target_chunk))\n",
    "\n",
    "    def __len__(self):\n",
    "        return len(self.input_ids)\n",
    "    \n",
    "    def __getitem__(self, idx):\n",
    "        return self.input_ids[idx], self.target_ids[idx]\n",
    "\n",
    "def create_dataloader_v1(txt, batch_size=4, max_length=256,\n",
    "                         stride=128,\n",
    "                         shuffle=True,\n",
    "                         drop_last=True,\n",
    "                         num_workers=0):\n",
    "    tokenizer = tiktoken.get_encoding(\"gpt2\")\n",
    "    dataset = GPTDatasetV1(txt, tokenizer, max_length, stride)\n",
    "    dataloader = DataLoader(dataset, batch_size=batch_size,\n",
    "                            shuffle=shuffle, drop_last=drop_last,\n",
    "                            num_workers=num_workers)\n",
    "    \n",
    "    return dataloader\n",
    "\n",
    "with open(\"../data/the-verdict.txt\", \"r\", encoding=\"utf-8\") as f:\n",
    "    txt = f.read()\n",
    "\n",
    "dataloader = create_dataloader_v1(txt, batch_size=1, max_length=4, stride=1, shuffle=False)\n",
    "\n",
    "data_iter = iter(dataloader)\n",
    "first_batch = next(data_iter)\n",
    "print(first_batch)"
   ]
  },
  {
   "cell_type": "code",
   "execution_count": 7,
   "metadata": {},
   "outputs": [
    {
     "name": "stdout",
     "output_type": "stream",
     "text": [
      "Parameter containing:\n",
      "tensor([[ 0.3374, -0.1778, -0.3035, -0.5880],\n",
      "        [ 0.3486,  0.6603, -0.2196, -0.3792],\n",
      "        [-0.1606, -0.4015,  0.6957, -1.8061],\n",
      "        [ 1.8960, -0.1750,  1.3689, -1.6033],\n",
      "        [-0.7849, -1.4096, -0.4076,  0.7953],\n",
      "        [ 0.9985,  0.2212,  1.8319, -0.3378]], device='xpu:0',\n",
      "       requires_grad=True)\n",
      "tensor([[[ 0.3486,  0.6603, -0.2196, -0.3792],\n",
      "         [-0.1606, -0.4015,  0.6957, -1.8061],\n",
      "         [ 1.8960, -0.1750,  1.3689, -1.6033],\n",
      "         [-0.7849, -1.4096, -0.4076,  0.7953]]], device='xpu:0',\n",
      "       grad_fn=<EmbeddingBackward0>)\n"
     ]
    }
   ],
   "source": [
    "# Trying out a small token embedding model\n",
    "\n",
    "input_ids = torch.tensor([[1, 2, 3, 4]]).to('xpu')\n",
    "\n",
    "vocab_size = 6\n",
    "output_dim = 4\n",
    "\n",
    "torch.manual_seed(123)\n",
    "embedding_layer = torch.nn.Embedding(vocab_size, output_dim).to('xpu')\n",
    "print(embedding_layer.weight)\n",
    "\n",
    "embeddings = embedding_layer(input_ids)\n",
    "print(embeddings)"
   ]
  },
  {
   "cell_type": "code",
   "execution_count": 13,
   "metadata": {},
   "outputs": [
    {
     "name": "stdout",
     "output_type": "stream",
     "text": [
      "Token IDs:\n",
      " tensor([[   40,   367,  2885,  1464],\n",
      "        [ 1807,  3619,   402,   271],\n",
      "        [10899,  2138,   257,  7026],\n",
      "        [15632,   438,  2016,   257],\n",
      "        [  922,  5891,  1576,   438],\n",
      "        [  568,   340,   373,   645],\n",
      "        [ 1049,  5975,   284,   502],\n",
      "        [  284,  3285,   326,    11]])\n",
      "\n",
      "Inputs shape:\n",
      " torch.Size([8, 4])\n",
      "\n",
      "Embeddings shape:\n",
      " torch.Size([8, 4, 256])\n"
     ]
    }
   ],
   "source": [
    "# Creating the full embedding model\n",
    "vocab_size = 50257 # size of the gpt-2 vocabulary\n",
    "output_dim = 256\n",
    "token_embeding_layer = torch.nn.Embedding(vocab_size, output_dim)\n",
    "\n",
    "max_length = 4\n",
    "dataloader = create_dataloader_v1(txt, batch_size=8, max_length=max_length, stride=max_length, shuffle=False, num_workers=0)\n",
    "\n",
    "data_iter = iter(dataloader)\n",
    "inputs, targets = next(data_iter)\n",
    "print(\"Token IDs:\\n\", inputs)\n",
    "print(\"\\nInputs shape:\\n\", inputs.shape)\n",
    "\n",
    "token_embeddings = token_embeding_layer(inputs)\n",
    "print(\"\\nEmbeddings shape:\\n\", token_embeddings.shape)"
   ]
  },
  {
   "cell_type": "code",
   "execution_count": 15,
   "metadata": {},
   "outputs": [
    {
     "name": "stdout",
     "output_type": "stream",
     "text": [
      "tensor([[-0.2527, -0.0394,  0.2733,  ..., -1.1980,  0.5375,  2.2997],\n",
      "        [-0.7995, -0.0521,  0.4565,  ..., -0.9853,  0.9330,  0.7574],\n",
      "        [ 0.4896, -0.3548, -0.2768,  ..., -0.5923,  1.0320,  0.1859],\n",
      "        [-0.7416, -1.4633,  1.1775,  ...,  1.8541, -0.6434,  0.7267]],\n",
      "       grad_fn=<EmbeddingBackward0>)\n",
      "torch.Size([4, 256])\n",
      "tensor([[[-1.3734e+00, -6.8528e-03, -7.6597e-01,  ..., -1.0742e+00,\n",
      "           2.2177e+00,  1.6062e+00],\n",
      "         [-2.0430e+00,  6.5746e-02,  1.3244e+00,  ..., -6.5890e-01,\n",
      "           1.9324e+00,  2.3588e+00],\n",
      "         [ 3.6466e-01,  7.3413e-02,  8.4166e-01,  ...,  9.4218e-01,\n",
      "          -6.7741e-01,  2.4261e+00],\n",
      "         [-3.4853e-01, -7.4823e-01,  1.8472e-01,  ...,  1.1741e+00,\n",
      "          -1.7265e+00, -1.0318e+00]],\n",
      "\n",
      "        [[ 4.9798e-01,  6.3419e-01,  1.3085e+00,  ...,  7.0523e-02,\n",
      "           4.7192e-01,  1.0729e+00],\n",
      "         [-7.5285e-01, -2.3526e-01, -8.4214e-01,  ...,  3.1610e-01,\n",
      "          -3.5245e-01,  2.0653e+00],\n",
      "         [-1.2019e+00, -1.1060e+00,  5.7884e-01,  ..., -1.2990e+00,\n",
      "           3.8278e-01, -5.8430e-01],\n",
      "         [-7.9204e-01, -2.3608e+00,  2.8424e+00,  ...,  7.4361e-01,\n",
      "          -1.0782e+00, -2.6821e-01]],\n",
      "\n",
      "        [[-4.7072e-02, -2.1100e-01, -1.8489e+00,  ..., -3.1206e+00,\n",
      "           9.2758e-01,  7.3307e-01],\n",
      "         [-1.1312e-01,  5.4670e-01,  1.0146e+00,  ...,  9.9121e-01,\n",
      "           1.8291e+00,  1.8652e+00],\n",
      "         [ 7.8652e-01,  5.6667e-02,  1.1746e+00,  ...,  1.4379e-01,\n",
      "           5.4542e-01, -3.0160e-04],\n",
      "         [-9.3480e-01, -9.1460e-01,  1.1880e+00,  ...,  3.4572e+00,\n",
      "           8.2598e-01,  5.0085e-01]],\n",
      "\n",
      "        ...,\n",
      "\n",
      "        [[-2.9214e-01, -1.7830e+00, -1.1933e-01,  ..., -1.9800e+00,\n",
      "          -1.6460e-01,  2.7637e+00],\n",
      "         [-8.5262e-01,  3.4406e-01,  2.3598e+00,  ..., -1.1684e+00,\n",
      "           7.2883e-01,  1.0442e+00],\n",
      "         [ 1.6438e+00,  2.1199e-01, -2.8459e-01,  ..., -6.1072e-01,\n",
      "           1.2997e+00, -8.0321e-01],\n",
      "         [-6.0017e-01, -2.8934e+00,  2.8759e+00,  ...,  1.1318e+00,\n",
      "           3.6835e-01, -6.2259e-01]],\n",
      "\n",
      "        [[-1.6636e+00,  6.1020e-01,  9.7623e-02,  ..., -4.6968e-01,\n",
      "           2.2450e+00,  1.9466e+00],\n",
      "         [ 5.8219e-01, -3.9093e-01,  2.0088e+00,  ..., -1.4120e+00,\n",
      "          -1.0014e-01, -6.5334e-01],\n",
      "         [ 1.5281e+00, -1.1973e+00, -7.6790e-01,  ..., -7.4831e-01,\n",
      "           8.7659e-01,  1.5002e+00],\n",
      "         [-1.2813e+00, -1.5614e+00,  2.7699e-01,  ...,  2.5018e+00,\n",
      "           9.1439e-01, -2.1814e+00]],\n",
      "\n",
      "        [[ 7.8576e-01, -8.8188e-01, -2.1789e-01,  ..., -1.3540e+00,\n",
      "           3.8218e-01,  3.6140e+00],\n",
      "         [-2.1211e-01,  2.7805e-01, -1.3076e-01,  ...,  3.9231e-02,\n",
      "           1.4961e+00,  2.6264e+00],\n",
      "         [ 2.0619e+00, -5.5929e-02, -6.4622e-01,  ..., -1.4221e+00,\n",
      "           2.6185e+00,  1.0003e+00],\n",
      "         [ 3.4823e-01, -1.7732e+00,  6.6257e-01,  ..., -6.8430e-01,\n",
      "          -1.0366e+00,  8.6692e-01]]], grad_fn=<AddBackward0>)\n"
     ]
    }
   ],
   "source": [
    "context_length = max_length\n",
    "pos_embedding_layer = torch.nn.Embedding(context_length, output_dim)\n",
    "pos_embeddings = pos_embedding_layer(torch.arange(context_length))\n",
    "\n",
    "print(pos_embeddings)\n",
    "print(pos_embeddings.shape)\n",
    "\n",
    "input_embeddings = token_embeddings + pos_embeddings\n",
    "print(input_embeddings)"
   ]
  }
 ],
 "metadata": {
  "kernelspec": {
   "display_name": "Python 3",
   "language": "python",
   "name": "python3"
  },
  "language_info": {
   "codemirror_mode": {
    "name": "ipython",
    "version": 3
   },
   "file_extension": ".py",
   "mimetype": "text/x-python",
   "name": "python",
   "nbconvert_exporter": "python",
   "pygments_lexer": "ipython3",
   "version": "3.11.9"
  }
 },
 "nbformat": 4,
 "nbformat_minor": 2
}
